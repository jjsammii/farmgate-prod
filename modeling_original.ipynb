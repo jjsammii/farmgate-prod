{
 "cells": [
  {
   "cell_type": "code",
   "execution_count": null,
   "id": "c3731eab",
   "metadata": {
    "tags": []
   },
   "outputs": [],
   "source": [
    "# importing modules and packages \n",
    "import pandas as pd \n",
    "import numpy as np \n",
    "import matplotlib.pyplot as plt\n",
    "import datetime\n",
    "import seaborn as sns\n",
    "from sklearn import model_selection\n",
    "from sklearn.model_selection import train_test_split \n",
    "from sklearn.linear_model import LinearRegression\n",
    "from sklearn.ensemble import RandomForestRegressor\n",
    "from sklearn.linear_model import LogisticRegression\n",
    "from sklearn.discriminant_analysis import LinearDiscriminantAnalysis\n",
    "from sklearn.metrics import mean_squared_error, mean_absolute_error \n",
    "from sklearn import preprocessing\n",
    "from sklearn.preprocessing import MinMaxScaler as Scaler\n",
    "from sklearn.tree import DecisionTreeClassifier\n",
    "from sklearn.neighbors import KNeighborsClassifier\n",
    "from sklearn.naive_bayes import GaussianNB\n",
    "from sklearn.svm import SVC\n",
    "seed = 101\n",
    "# import all libraries needed"
   ]
  },
  {
   "cell_type": "code",
   "execution_count": null,
   "id": "0c7d2b5d",
   "metadata": {
    "tags": []
   },
   "outputs": [],
   "source": [
    "df = pd.read_csv(\"data/actual.csv\")\n",
    "df.head()"
   ]
  },
  {
   "cell_type": "code",
   "execution_count": null,
   "id": "2efa51ec",
   "metadata": {},
   "outputs": [],
   "source": [
    "df = df[df[\"Actual_Price\"]>= 50]"
   ]
  },
  {
   "cell_type": "code",
   "execution_count": null,
   "id": "b1709542",
   "metadata": {
    "tags": []
   },
   "outputs": [],
   "source": [
    "df.isnull().sum()"
   ]
  },
  {
   "cell_type": "code",
   "execution_count": null,
   "id": "26f87be2",
   "metadata": {
    "tags": []
   },
   "outputs": [],
   "source": [
    "df[\"price_date\"] = pd.to_datetime(df[\"price_date\"], format=\"%m/%d/%Y\")"
   ]
  },
  {
   "cell_type": "code",
   "execution_count": null,
   "id": "1b009566",
   "metadata": {
    "tags": []
   },
   "outputs": [],
   "source": [
    "#df = df.sort_values('price_date', ascending=False)"
   ]
  },
  {
   "cell_type": "code",
   "execution_count": null,
   "id": "f497b41c",
   "metadata": {},
   "outputs": [],
   "source": [
    "df[\"price_date\"] = df[\"price_date\"].dt.strftime('%Y-%m-%d')\n",
    "df.head()"
   ]
  },
  {
   "cell_type": "code",
   "execution_count": null,
   "id": "aba62799",
   "metadata": {
    "tags": []
   },
   "outputs": [],
   "source": [
    "df0 = df.copy()"
   ]
  },
  {
   "cell_type": "code",
   "execution_count": null,
   "id": "02864ade",
   "metadata": {
    "tags": []
   },
   "outputs": [],
   "source": [
    "#converting string columns to numerical\n",
    "le = preprocessing.LabelEncoder()\n",
    "df[\"price_date\"] = le.fit_transform(df[\"price_date\"])\n",
    "df[\"parish\"] = le.fit_transform(df[\"parish\"])\n",
    "df[\"commodity\"] = le.fit_transform(df[\"commodity\"])\n",
    "df[\"type\"] = le.fit_transform(df[\"type\"])\n",
    "df[\"Category\"] = le.fit_transform(df[\"Category\"])\n",
    "df[\"supply\"] = le.fit_transform(df[\"supply\"])\n",
    "df[\"grade\"] = le.fit_transform(df[\"grade\"])"
   ]
  },
  {
   "cell_type": "code",
   "execution_count": null,
   "id": "ba79c2a8",
   "metadata": {},
   "outputs": [],
   "source": [
    "# apply normalization techniques by Column 1 \n",
    "#column = 'Actual_Price'\n",
    "#df[column] = (df[column] - df[column].min()) / (df[column].max() - df[column].min())  "
   ]
  },
  {
   "cell_type": "code",
   "execution_count": null,
   "id": "2afc1f3a",
   "metadata": {},
   "outputs": [],
   "source": [
    "df.to_csv(\"before.csv\")"
   ]
  },
  {
   "cell_type": "code",
   "execution_count": null,
   "id": "8eed6baa",
   "metadata": {},
   "outputs": [],
   "source": [
    "x = df.values #returns a numpy array\n",
    "min_max_scaler = preprocessing.MinMaxScaler()\n",
    "x_scaled = min_max_scaler.fit_transform(x)\n",
    "df_scaled = pd.DataFrame(x_scaled, columns = ['price_date', 'parish', 'commodity', 'type', 'Category', 'supply', 'grade', 'Actual_Price'] )\n",
    "df= df_scaled.copy()"
   ]
  },
  {
   "cell_type": "code",
   "execution_count": null,
   "id": "6e7cb01e",
   "metadata": {},
   "outputs": [],
   "source": [
    "#normalized_df=(df-df.min())/(df.max()-df.min())\n",
    "#df = normalized_df.copy()"
   ]
  },
  {
   "cell_type": "code",
   "execution_count": null,
   "id": "93184225",
   "metadata": {},
   "outputs": [],
   "source": [
    "df.head()"
   ]
  },
  {
   "cell_type": "code",
   "execution_count": null,
   "id": "1eef4294",
   "metadata": {},
   "outputs": [],
   "source": [
    "#df = normalized_df.copy()"
   ]
  },
  {
   "cell_type": "code",
   "execution_count": null,
   "id": "f40db5d7",
   "metadata": {},
   "outputs": [],
   "source": [
    "#using One Hot encoder to convert string columns into numerical columns\n",
    "#df_encoded = pd.get_dummies(df, columns=['parish', 'commodity', 'type', 'Category', 'supply', 'grade'])\n",
    "#df_encoded.head()"
   ]
  },
  {
   "cell_type": "code",
   "execution_count": null,
   "id": "5dd0a4f8",
   "metadata": {},
   "outputs": [],
   "source": [
    "#df = df_encoded.copy()"
   ]
  },
  {
   "cell_type": "code",
   "execution_count": null,
   "id": "e8282247",
   "metadata": {},
   "outputs": [],
   "source": [
    "d = dict.fromkeys(df.select_dtypes(np.int64).columns, np.int32)"
   ]
  },
  {
   "cell_type": "code",
   "execution_count": null,
   "id": "480d351d",
   "metadata": {},
   "outputs": [],
   "source": [
    "df = df.astype(d)"
   ]
  },
  {
   "cell_type": "code",
   "execution_count": null,
   "id": "45515551",
   "metadata": {
    "tags": []
   },
   "outputs": [],
   "source": [
    "df['Actual_Price'] = df['Actual_Price'].astype(float)\n",
    "df.info()"
   ]
  },
  {
   "cell_type": "code",
   "execution_count": null,
   "id": "dabc76ee",
   "metadata": {},
   "outputs": [],
   "source": [
    "df.to_csv('test.csv')"
   ]
  },
  {
   "cell_type": "code",
   "execution_count": null,
   "id": "f3c68b4b",
   "metadata": {
    "tags": []
   },
   "outputs": [],
   "source": [
    "corr = df.corr()\n",
    "corr"
   ]
  },
  {
   "cell_type": "code",
   "execution_count": null,
   "id": "ae6c09a5",
   "metadata": {
    "tags": []
   },
   "outputs": [],
   "source": [
    "#sns.heatmap(corr, xticklabels=corr.columns, yticklabels=corr.columns)"
   ]
  },
  {
   "cell_type": "code",
   "execution_count": null,
   "id": "fbcf8ff4",
   "metadata": {
    "tags": []
   },
   "outputs": [],
   "source": [
    "df.hist(bins=50, figsize=(25,10))\n",
    "plt.show()"
   ]
  },
  {
   "cell_type": "code",
   "execution_count": null,
   "id": "2bf0729c",
   "metadata": {
    "tags": []
   },
   "outputs": [],
   "source": [
    "df.columns"
   ]
  },
  {
   "cell_type": "code",
   "execution_count": null,
   "id": "cc9d6570",
   "metadata": {
    "tags": []
   },
   "outputs": [],
   "source": [
    "X = np.array(df.drop(['Actual_Price'], axis=1))\n",
    "y = np.array(df['Actual_Price'])"
   ]
  },
  {
   "cell_type": "code",
   "execution_count": null,
   "id": "f65de912",
   "metadata": {},
   "outputs": [],
   "source": [
    "seed = 42\n",
    "scoring = 'r2'"
   ]
  },
  {
   "cell_type": "code",
   "execution_count": null,
   "id": "9f242b55",
   "metadata": {},
   "outputs": [],
   "source": [
    "X_train, X_test, y_train, y_test = train_test_split(X,y,test_size=0.3, random_state=seed)"
   ]
  },
  {
   "cell_type": "code",
   "execution_count": null,
   "id": "48d7c165",
   "metadata": {
    "tags": []
   },
   "outputs": [],
   "source": [
    "#scaling x\n",
    "#mm_scaler = Scaler()\n",
    "#mm_scaler = preprocessing.MinMaxScaler(feature_range=(0,1))\n",
    "#mm_scaler.fit(X_train)\n",
    "#X_train = mm_scaler.transform(X_train)\n",
    "#X_test = mm_scaler.transform(X_test)"
   ]
  },
  {
   "cell_type": "code",
   "execution_count": null,
   "id": "401b71c6",
   "metadata": {},
   "outputs": [],
   "source": [
    "# Spot Check Algorithms\n",
    "models = []\n",
    "models.append(('LNR', LinearRegression()))\n",
    "models.append(('LDA', LinearDiscriminantAnalysis()))\n",
    "models.append(('KNN', KNeighborsClassifier()))\n",
    "models.append(('CART', DecisionTreeClassifier()))\n",
    "models.append(('RGR', RandomForestRegressor()))\n",
    "#models.append(('NB', GaussianNB()))\n",
    "models.append(('SVM', SVC()))"
   ]
  },
  {
   "cell_type": "code",
   "execution_count": null,
   "id": "8ac7160a",
   "metadata": {},
   "outputs": [],
   "source": [
    "# evaluate each model in turn\n",
    "results = []\n",
    "names = []\n",
    "for name, model in models:\n",
    "    kfold = model_selection.KFold(n_splits=10, random_state=None)\n",
    "    cv_results = model_selection.cross_val_score(model, X_train, y_train, cv=kfold, scoring='r2')\n",
    "    results.append(cv_results)\n",
    "    names.append(name)\n",
    "    msg = \"%s: %f (%f)\" % (name, cv_results.mean(), cv_results.std())\n",
    "    print(msg)"
   ]
  },
  {
   "cell_type": "code",
   "execution_count": null,
   "id": "dd26c243",
   "metadata": {
    "tags": []
   },
   "outputs": [],
   "source": [
    "#tuned parameters for random forest regressor\n",
    "from sklearn.model_selection import GridSearchCV\n",
    "tuned_parameters = {\n",
    "    'max_depth' : [2,3,5,10,20],\n",
    "    'min_samples_leaf': [5,10,20,50,100,200],        \n",
    "    'n_estimators': [10,25,30,50,100,200]   \n",
    "}\n",
    "rgr_model = RandomForestRegressor()\n",
    "gridSearch = GridSearchCV(rgr_model, tuned_parameters, cv=10, scoring='r2')\n",
    "gridSearch.fit(X_train, y_train)"
   ]
  },
  {
   "cell_type": "code",
   "execution_count": null,
   "id": "3b864eb0",
   "metadata": {},
   "outputs": [],
   "source": [
    "\"\"\"\n",
    "from sklearn.model_selection import GridSearchCV\n",
    "tuned_parameters = {\n",
    "    'solver' : ['svd', 'lsqr', 'eigen'],\n",
    "    'shrinkage': ['auto', 0.1, 0.5],        \n",
    "    'tol' : [0.1, 0.3, 0.5]   \n",
    "}\n",
    "lda_model = LinearDiscriminantAnalysis()\n",
    "gridSearch = GridSearchCV(lda_model, tuned_parameters, cv=10, scoring='r2')\n",
    "gridSearch.fit(X_train, y_train)\"\"\""
   ]
  },
  {
   "cell_type": "code",
   "execution_count": null,
   "id": "c4034244",
   "metadata": {},
   "outputs": [],
   "source": [
    "gridSearch.best_score_"
   ]
  },
  {
   "cell_type": "code",
   "execution_count": null,
   "id": "ee6aaa57",
   "metadata": {},
   "outputs": [],
   "source": [
    "gridSearch.best_params_"
   ]
  },
  {
   "cell_type": "code",
   "execution_count": null,
   "id": "1d44a28b",
   "metadata": {},
   "outputs": [],
   "source": [
    "rgr_model = gridSearch.best_estimator_\n",
    "print(rgr_model)"
   ]
  },
  {
   "cell_type": "code",
   "execution_count": null,
   "id": "7a89147f",
   "metadata": {},
   "outputs": [],
   "source": [
    "rgr_model.fit(X_train, y_train)"
   ]
  },
  {
   "cell_type": "code",
   "execution_count": null,
   "id": "d695ef7c",
   "metadata": {},
   "outputs": [],
   "source": [
    "rgr_model.oob_score_"
   ]
  },
  {
   "cell_type": "code",
   "execution_count": null,
   "id": "1836336b",
   "metadata": {
    "tags": []
   },
   "outputs": [],
   "source": [
    "# making predictions \n",
    "predictions = rgr_model.predict(X_test)"
   ]
  },
  {
   "cell_type": "code",
   "execution_count": null,
   "id": "f16fc4f9",
   "metadata": {
    "tags": []
   },
   "outputs": [],
   "source": [
    "# model evaluation \n",
    "print('mean_squared_error : ', mean_squared_error(y_test, predictions)) \n",
    "print('mean_absolute_error : ', mean_absolute_error(y_test, predictions))"
   ]
  },
  {
   "cell_type": "code",
   "execution_count": null,
   "id": "fd1fb0e6",
   "metadata": {
    "tags": []
   },
   "outputs": [],
   "source": [
    "total_predictions = rgr_model.predict(X)\n",
    "total_predictions"
   ]
  },
  {
   "cell_type": "code",
   "execution_count": null,
   "id": "f9db8259",
   "metadata": {
    "tags": []
   },
   "outputs": [],
   "source": [
    "df0[\"Predictions\"] = total_predictions\n",
    "df0.head()"
   ]
  },
  {
   "cell_type": "code",
   "execution_count": null,
   "id": "e556d609",
   "metadata": {},
   "outputs": [],
   "source": [
    "#denormalizinf predictions\n",
    "#column = \"Predictions\"\n",
    "#df0[\"Predictions\"] = (df0[column] * (df0[column].max() - df0[column].min()) + df0[column].min())\n",
    "#df0.head()"
   ]
  },
  {
   "cell_type": "code",
   "execution_count": null,
   "id": "fa3cf772",
   "metadata": {
    "tags": []
   },
   "outputs": [],
   "source": [
    "df0.to_csv(\"predictions.csv\")"
   ]
  },
  {
   "cell_type": "markdown",
   "id": "5e7131cd",
   "metadata": {},
   "source": [
    "### Linear Discriminate Analysis\n"
   ]
  },
  {
   "cell_type": "code",
   "execution_count": null,
   "id": "de0c7f58",
   "metadata": {},
   "outputs": [],
   "source": [
    "#tuned parameters for Linear DiscriminateAnalysis\n",
    "from sklearn.model_selection import GridSearchCV\n",
    "tuned_parameters = {\n",
    "    'solver' : ['svd', 'lsqr', 'eigen'],\n",
    "    'min_samples_split': [2, 4],        \n",
    "    'max_features' : [None]   \n",
    "}\n",
    "rgr_model = RandomForestRegressor()\n",
    "gridSearch = GridSearchCV(rgr_model, tuned_parameters, cv=10, scoring='r2')\n",
    "gridSearch.fit(X_train, y_train)"
   ]
  },
  {
   "cell_type": "code",
   "execution_count": null,
   "id": "6bad9d24",
   "metadata": {
    "tags": []
   },
   "outputs": [],
   "source": [
    "# making predictions \n",
    "predictions = rgr.predict(X_test)"
   ]
  },
  {
   "cell_type": "code",
   "execution_count": null,
   "id": "34294eb6",
   "metadata": {
    "tags": []
   },
   "outputs": [],
   "source": [
    "# model evaluation \n",
    "print('mean_squared_error : ', mean_squared_error(y_test, predictions)) \n",
    "print('mean_absolute_error : ', mean_absolute_error(y_test, predictions))"
   ]
  },
  {
   "cell_type": "code",
   "execution_count": null,
   "id": "7e901ec8",
   "metadata": {
    "tags": []
   },
   "outputs": [],
   "source": [
    "#model = LinearRegression()\n",
    "model = RandomForestRegressor()"
   ]
  },
  {
   "cell_type": "code",
   "execution_count": null,
   "id": "f922989a",
   "metadata": {},
   "outputs": [],
   "source": [
    "# fitting the model \n",
    "model.fit(X_train_scaled, y_train)"
   ]
  },
  {
   "cell_type": "code",
   "execution_count": null,
   "id": "53c4fbda",
   "metadata": {
    "tags": []
   },
   "outputs": [],
   "source": [
    "# making predictions \n",
    "predictions = model.predict(X_test_scaled)"
   ]
  },
  {
   "cell_type": "code",
   "execution_count": null,
   "id": "cd096715",
   "metadata": {
    "tags": []
   },
   "outputs": [],
   "source": [
    "# model evaluation \n",
    "print('mean_squared_error : ', mean_squared_error(y_test, predictions)) \n",
    "print('mean_absolute_error : ', mean_absolute_error(y_test, predictions))"
   ]
  },
  {
   "cell_type": "code",
   "execution_count": null,
   "id": "6d59c5e6",
   "metadata": {
    "tags": []
   },
   "outputs": [],
   "source": [
    "mm_scaler = Scaler()\n",
    "mm_scaler.fit(X)\n",
    "X_full = mm_scaler.transform(X)"
   ]
  },
  {
   "cell_type": "code",
   "execution_count": null,
   "id": "61c5303d",
   "metadata": {
    "tags": []
   },
   "outputs": [],
   "source": [
    "total_predictions = model.predict(X_full)"
   ]
  },
  {
   "cell_type": "code",
   "execution_count": null,
   "id": "e26d6da0",
   "metadata": {},
   "outputs": [],
   "source": [
    "df0[\"Predictions\"] = total_predictions\n",
    "df0.head()"
   ]
  },
  {
   "cell_type": "code",
   "execution_count": null,
   "id": "b0f6c41a",
   "metadata": {
    "tags": []
   },
   "outputs": [],
   "source": [
    "import pickle\n",
    "\n",
    "filename = \"farmgate_model.pickle\"\n",
    "\n",
    "#save model\n",
    "pickle.dump(model, open(filename, \"wb\"))\n",
    "\n",
    "# load model\n",
    "loaded_model = pickle.load(open(filename, \"rb\"))"
   ]
  },
  {
   "cell_type": "code",
   "execution_count": null,
   "id": "ef8f9b9a",
   "metadata": {},
   "outputs": [],
   "source": [
    "#filterting for unique rows without dates"
   ]
  },
  {
   "cell_type": "code",
   "execution_count": null,
   "id": "26ff4aea",
   "metadata": {
    "tags": []
   },
   "outputs": [],
   "source": [
    "df = pd.read_csv(\"actual.csv\")\n",
    "df = df.drop([\"price_date\", \"Actual_Price\"], axis =1)\n",
    "df.head()"
   ]
  },
  {
   "cell_type": "code",
   "execution_count": null,
   "id": "b89f2e6b",
   "metadata": {
    "tags": []
   },
   "outputs": [],
   "source": [
    "dff = df.drop_duplicates()\n",
    "dff.shape"
   ]
  },
  {
   "cell_type": "code",
   "execution_count": null,
   "id": "be6868d7",
   "metadata": {
    "tags": []
   },
   "outputs": [],
   "source": [
    "#creating a list of dates for next three years\n",
    "base = datetime.datetime.today()\n",
    "#date_list = [base + datetime.timedelta(days=x) for x in range(numdays)]"
   ]
  },
  {
   "cell_type": "code",
   "execution_count": null,
   "id": "960cfe71",
   "metadata": {
    "tags": []
   },
   "outputs": [],
   "source": [
    "base\n"
   ]
  }
 ],
 "metadata": {
  "kernelspec": {
   "display_name": "Python 3 (ipykernel)",
   "language": "python",
   "name": "python3"
  },
  "language_info": {
   "codemirror_mode": {
    "name": "ipython",
    "version": 3
   },
   "file_extension": ".py",
   "mimetype": "text/x-python",
   "name": "python",
   "nbconvert_exporter": "python",
   "pygments_lexer": "ipython3",
   "version": "3.7.7"
  }
 },
 "nbformat": 4,
 "nbformat_minor": 5
}
